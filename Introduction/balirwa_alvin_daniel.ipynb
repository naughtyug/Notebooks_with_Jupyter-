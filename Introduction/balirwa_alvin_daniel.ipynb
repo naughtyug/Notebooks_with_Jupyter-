{
 "cells": [
  {
   "cell_type": "markdown",
   "metadata": {},
   "source": [
    "# BSIT\n",
    "## Probability\n",
    "### statistics\n",
    "\n",
    "This is the <br> first pargraph\n",
    "\n",
    "\n",
    "- This is Probability & Statistics in Python\n",
    "- From the result above the p-value is ```0.988```\n",
    "- Some ```9.898``` off from ```STARZ```"
   ]
  },
  {
   "cell_type": "code",
   "execution_count": 1,
   "metadata": {},
   "outputs": [
    {
     "name": "stdout",
     "output_type": "stream",
     "text": [
      "Hello World\n"
     ]
    }
   ],
   "source": [
    "print(\"Hello World\")"
   ]
  }
 ],
 "metadata": {
  "kernelspec": {
   "display_name": "Python 3",
   "language": "python",
   "name": "python3"
  },
  "language_info": {
   "codemirror_mode": {
    "name": "ipython",
    "version": 3
   },
   "file_extension": ".py",
   "mimetype": "text/x-python",
   "name": "python",
   "nbconvert_exporter": "python",
   "pygments_lexer": "ipython3",
   "version": "3.12.7"
  }
 },
 "nbformat": 4,
 "nbformat_minor": 2
}
