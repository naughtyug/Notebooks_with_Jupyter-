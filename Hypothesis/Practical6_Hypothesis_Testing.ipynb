{
 "cells": [
  {
   "cell_type": "markdown",
   "metadata": {},
   "source": [
    "## HYPOTHESIS TESTING ##"
   ]
  },
  {
   "cell_type": "markdown",
   "metadata": {},
   "source": [
    "* An assumption or idea, specifically a statistical claim about an unknown parameter.\n",
    "* Presumptive statement\n",
    "\n",
    "* Defining Hypotheses\n",
    "* Null hypothesis (H0): In statistics, the null hypothesis is a general statement or default position that there is no relationship/no effects/no difference between two measured cases or among groups. In other words, it is a basic assumption or made based on the problem knowledge.\n",
    "* Example using diamonds dataset: There is no relationship between carat and price\n",
    "\n",
    "* Alternative hypothesis (H1/Ha/HA): The alternative hypothesis is contrary to the null hypothesis. \n",
    "* Example: There is a relationship between carat and price."
   ]
  },
  {
   "cell_type": "markdown",
   "metadata": {},
   "source": [
    "        ## Key Terms of Hypothesis Testing\n",
    "\n",
    "* Level of significance(alpha): It refers to the degree of significance in which we accept or reject the null hypothesis. 100% accuracy is not possible for accepting a hypothesis, so we, therefore, select a level of significance that is usually 5%. \n",
    "\n",
    "* P-value: The P value, or calculated probability, is the probability of finding the observed/extreme results when the null hypothesis(H0) of a study-given problem is true. If your P-value is less than the chosen significance level then you reject the null hypothesis i.e. accept that your sample claims to support the alternative hypothesis.\n",
    "\n",
    "* Test Statistic: The test statistic is a numerical value calculated from sample data during a hypothesis test, used to determine whether to reject the null hypothesis. It is compared to a critical value or p-value to make decisions about the statistical significance of the observed results.\n",
    "\n",
    "* Critical value: The critical value in statistics is a threshold or cutoff point used to determine whether to reject the null hypothesis in a hypothesis test.\n",
    "* Degrees of freedom: Degrees of freedom are associated with the variability or freedom one has in estimating a parameter. The degrees of freedom are related to the sample size and determine the shape."
   ]
  },
  {
   "cell_type": "markdown",
   "metadata": {},
   "source": [
    "       ## Steps in hypothesis testing\n",
    "* 1. State and define null and alternative hypotheses\n",
    "* 2. Choose a significance level (usually alpha = 0.05 or 5%)\n",
    "* 3. Collect and analyse data\n",
    "* 4. Calculate the test statistic and corresponding p-value\n",
    "* 5. Make conclusions"
   ]
  },
  {
   "cell_type": "code",
   "execution_count": 14,
   "metadata": {},
   "outputs": [],
   "source": [
    "#libraries\n",
    "import pandas as pd\n",
    "import numpy as np\n",
    "import scipy.stats as stats\n",
    "\n",
    "#Import datasets\n",
    "diamonds=pd.read_excel(\"diamonds_new.xlsx\")\n",
    "medical=pd.read_csv(\"Cancer_data.csv\")"
   ]
  },
  {
   "cell_type": "markdown",
   "metadata": {},
   "source": [
    "## Statistical tests to investigate"
   ]
  },
  {
   "cell_type": "markdown",
   "metadata": {},
   "source": [
    "**A. T-test**\n",
    "* Compares the mean of two different samples or groups when the sample size is ≤ 30 \n",
    "* Data should follow normal or Gaussian distribution\n",
    "* Different types of T-tests:"
   ]
  },
  {
   "cell_type": "markdown",
   "metadata": {},
   "source": [
    "**i. One Sample T-test:** \n",
    "* Used to compare the mean value of a sample with a known mean or average. \n",
    "* The null and alternative hypotheses of this T-test are as follows:\n",
    "* i. Null Hypothesis: μ = M\n",
    "* ii. Alternative Hypothesis: μ ≠ M\n",
    "* Where μ is the sample mean and M is the known mean/population mean."
   ]
  },
  {
   "cell_type": "code",
   "execution_count": 5,
   "metadata": {},
   "outputs": [
    {
     "name": "stdout",
     "output_type": "stream",
     "text": [
      "T-statistic: 3.323912287864602\n",
      "P-value: 0.00241310214420894\n",
      "50.19250857400527\n"
     ]
    }
   ],
   "source": [
    "#Let's generate a random dataset that meets the above assumptions\n",
    "import random\n",
    "# We will use random data for the samples and label them as 'a' and 'b' respectively\n",
    "a = [random.gauss(50, 20) for x in range(30)] #a variable with a list of 50\n",
    "b = [random.gauss(55, 15) for x in range(30)]\n",
    "\n",
    "#If we assume the population mean is 40\n",
    "#Null hypothesis is the sample mean = population mean(40)\n",
    "#alpha=0.05\n",
    "#Therefore, p<0.05 (reject null hypothesis)\n",
    "#Let's test it for sample a\n",
    "t_stat, p_value = stats.ttest_1samp(a, 40, axis=0)\n",
    "\n",
    "#Print the t-stat and the p-value\n",
    "print(\"T-statistic:\", t_stat)\n",
    "print(\"P-value:\", p_value)\n",
    "print(np.mean(a))"
   ]
  },
  {
   "cell_type": "markdown",
   "metadata": {},
   "source": [
    "*      Interpretation of the results: \n",
    "* The p-value is less than 0.05(signifance level) and the sample mean(50.19) is also ≠ population mean(40).\n",
    "* We reject the null hypothesis and accept the alternative hypothesis"
   ]
  },
  {
   "cell_type": "markdown",
   "metadata": {},
   "source": [
    "**ii. Independent Sample T-test or Two Sample T-test**\n",
    "* Null hypothesis: The means of samples are equal"
   ]
  },
  {
   "cell_type": "code",
   "execution_count": 7,
   "metadata": {},
   "outputs": [
    {
     "name": "stdout",
     "output_type": "stream",
     "text": [
      "T-statistic: -0.42146151000303733\n",
      "P-value: 0.6750024151067231\n",
      "50.19250857400527 52.15236256714354\n",
      "We can accept the null hypothesis\n"
     ]
    }
   ],
   "source": [
    "# Null hypothesis: mean of a = mean of b\n",
    "t_stat, p_value = stats.ttest_ind(a,b,equal_var = False)\n",
    "#print results\n",
    "print(\"T-statistic:\", t_stat)\n",
    "print(\"P-value:\", p_value)\n",
    "print(np.mean(a), np.mean(b))\n",
    "\n",
    "#We can also add an if/else function which is defined as such:  \n",
    "if p_value < 0.05:      \n",
    "    print(\" We can reject the null hypothesis\")  \n",
    "else:  \n",
    "    print(\"We can accept the null hypothesis\")  "
   ]
  },
  {
   "cell_type": "markdown",
   "metadata": {},
   "source": [
    "*      Interpretation of the results: \n",
    "* The p-value is greater than 0.05(signifance level) and the mean of a = mean of b\n",
    "* We accept the null hypothesis and reject the alternative hypothesis"
   ]
  },
  {
   "cell_type": "markdown",
   "metadata": {},
   "source": [
    "**iii. Dependent or Paired Sample T-test**\n",
    "* A substantial difference between two related variables is tested using a univariate test\n",
    "*  Null hypothesis: mean of b - mean of a = 0"
   ]
  },
  {
   "cell_type": "code",
   "execution_count": 8,
   "metadata": {},
   "outputs": [
    {
     "name": "stdout",
     "output_type": "stream",
     "text": [
      "T-statistic: -0.4337456828470809\n",
      "P-value: 0.6676828455083401\n",
      "-1.9598539931382746\n",
      "We can accept the null hypothesis\n"
     ]
    }
   ],
   "source": [
    "t_stat,p_value = stats.ttest_rel(a,b)\n",
    "#print results\n",
    "print(\"T-statistic:\", t_stat)\n",
    "print(\"P-value:\", p_value)\n",
    "print(np.mean(a) - np.mean(b))\n",
    "#Print conclusion\n",
    "if p_value < 0.05:      \n",
    "    print(\" We can reject the null hypothesis\")  \n",
    "else:  \n",
    "    print(\"We can accept the null hypothesis\") "
   ]
  },
  {
   "cell_type": "markdown",
   "metadata": {},
   "source": [
    "**B. Z-test**\n",
    "* Used to compare the difference between a sample and a known population mean or between the means of two independent samples. \n",
    "* Sample size is ≥ 30 and \n",
    "* The population standard deviation is known.\n",
    "* There are two different types of Z-test:\n",
    "* One-sample Z-test: Used to compare one sample mean with a known population mean.\n",
    "i. Null Hypothesis: μ = μ₀\n",
    "ii. Alternative Hypothesis: μ ≠ μ₀\n",
    "Where μ is the population mean and μ₀ is a specified value you compare with the population mean."
   ]
  },
  {
   "cell_type": "markdown",
   "metadata": {},
   "source": [
    "**i. One-sample Z-test**\n",
    "* Compares ones sample mean with a known population mean\n",
    "* Null hypothesis: μ = μ₀\n",
    "* Alternative Hypothesis: μ ≠ μ₀\n",
    "* Where μ is the population mean and μ₀ is a specified value you compare with the population mean."
   ]
  },
  {
   "cell_type": "code",
   "execution_count": 13,
   "metadata": {},
   "outputs": [
    {
     "name": "stdout",
     "output_type": "stream",
     "text": [
      "Z-statistic: 0.8059089168995973\n",
      "P-value: 0.4202953693934157\n",
      "200.1390453783929\n",
      "We can accept the null hypothesis\n"
     ]
    }
   ],
   "source": [
    "#Import the z-test library\n",
    "from statsmodels.stats.weightstats import ztest as ztest\n",
    "# Let's use the diamonds dataset\n",
    "# Let's assume the mean price of a diamond is 200 and the standard deviation 40\n",
    "#Specified value = 200\n",
    "#Standard deviation = 40\n",
    "# Range=53920 (testing hypothesis for the 53920 diamonds in the dataset)\n",
    "diamonds['price'] = [random.gauss(200, 40) for x in range(53920)]\n",
    "\n",
    "# One Sample Z-test for sample 'a'\n",
    "# Null Hypothesis: Mean of diamond price = 200 \n",
    "z_stat, p_value = ztest(diamonds['price'], value=200)\n",
    "\n",
    "#print results\n",
    "print(\"Z-statistic:\", z_stat)\n",
    "print(\"P-value:\", p_value)\n",
    "print(np.mean(diamonds['price']))\n",
    "\n",
    "#print conclusion\n",
    "if p_value < 0.05:      \n",
    "    print(\" We can reject the null hypothesis\")  \n",
    "else:  \n",
    "    print(\"We can accept the null hypothesis\") "
   ]
  },
  {
   "cell_type": "markdown",
   "metadata": {},
   "source": [
    "*     Interpretation of results:\n",
    "* We see that the mean price of the diamonds within the dataset is equal to the assumed mean price of 200"
   ]
  },
  {
   "cell_type": "markdown",
   "metadata": {},
   "source": [
    "**ii. Two Sample Z-Test**\n",
    "* Examines two independent data sets to determine whether or not the sample means of the two groups are identical.\n",
    "* Null Hypothesis: Mean of a = mean of b\n",
    "* Similar to the independent t-test\n",
    "* To carry this out you have to first check if the variables are independent\n",
    "* So let's use the Cancer dataset (medical dataframe) as the variable radius_mean amongst two different groups: patients with malignant and benign tumors (M and B)\n",
    "* Null hypothesis: Mean of radius_mean of malignant tumors = Mean of radius_mean of benign tumors"
   ]
  },
  {
   "cell_type": "code",
   "execution_count": 16,
   "metadata": {},
   "outputs": [],
   "source": [
    "#Import libraries\n",
    "from scipy import stats  \n",
    "from statsmodels.stats import weightstats as stests  \n",
    "\n",
    "#State null hypothesis:\n",
    "#Mean of radius_mean of malignant tumors = Mean of radius_mean of benign tumors\n",
    "#\n",
    "\n",
    "#Specify the groups\n",
    "M=medical[medical[\"diagnosis\"] == \"M\"].radius_mean\n",
    "B=medical[medical[\"diagnosis\"] == \"B\"].radius_mean"
   ]
  },
  {
   "cell_type": "code",
   "execution_count": 17,
   "metadata": {},
   "outputs": [
    {
     "name": "stdout",
     "output_type": "stream",
     "text": [
      "Z-statistic: 0.8059089168995973\n",
      "P-value: 1.0131691292988755e-142\n",
      "17.462830188679245 12.146523809523808\n",
      "We can reject the null hypothesis\n"
     ]
    }
   ],
   "source": [
    "#Run the two-sided z-test\n",
    "z_test ,p_value = stests.ztest(M, x2 = B, value = 0, alternative = 'two-sided')  \n",
    "\n",
    "#Print results\n",
    "print(\"Z-statistic:\", z_stat)\n",
    "print(\"P-value:\", p_value)\n",
    "print(np.mean(M), np.mean(B)) \n",
    "\n",
    "#Print conclusion \n",
    "if p_value < 0.05:  \n",
    "    print(\"We can reject the null hypothesis\")  \n",
    "else:  \n",
    "    print(\"We can accept the null hypothesis\")  "
   ]
  },
  {
   "cell_type": "markdown",
   "metadata": {},
   "source": [
    "*       Interpretation of results\n",
    "* Null hypothesis is rejected\n",
    "* Therefore, the mean of the radius_means of the tumors amongst Benign and Malignat groups are not equal"
   ]
  },
  {
   "cell_type": "markdown",
   "metadata": {},
   "source": [
    "## Further Reading ##\n",
    "* Hypothesis testing for Analysis of variance, or ANOVA or F-test\n",
    "* Hypothesis testing for Chisquare test\n",
    "* Hypothesis testing for Mann-Whitney U Test\n",
    "* Hypothesis testing for Shapiro-wilk's test\n",
    "* Hypothesis testing for Wilcoxon Signed-Rank Test\n",
    "* Hypothesis testing for Kruskal-Wallis H Test\n",
    "* Hypothesis testing for Kolmogorov–Smirnov test\n",
    "* Differences between parametric and non-parametric tests\n",
    "\n"
   ]
  },
  {
   "cell_type": "markdown",
   "metadata": {},
   "source": [
    "## Practice Exercise ##\n",
    "* Using the diamonds dataset, test the hypothesis that average price of all carat categories are the same."
   ]
  }
 ],
 "metadata": {
  "kernelspec": {
   "display_name": "Python 3",
   "language": "python",
   "name": "python3"
  },
  "language_info": {
   "codemirror_mode": {
    "name": "ipython",
    "version": 3
   },
   "file_extension": ".py",
   "mimetype": "text/x-python",
   "name": "python",
   "nbconvert_exporter": "python",
   "pygments_lexer": "ipython3",
   "version": "3.12.0"
  }
 },
 "nbformat": 4,
 "nbformat_minor": 2
}
