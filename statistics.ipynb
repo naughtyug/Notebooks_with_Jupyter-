{
 "cells": [
  {
   "cell_type": "code",
   "execution_count": 1,
   "metadata": {},
   "outputs": [],
   "source": [
    "import numpy as np\n",
    "import pandas as pd"
   ]
  },
  {
   "cell_type": "code",
   "execution_count": 2,
   "metadata": {},
   "outputs": [
    {
     "name": "stdout",
     "output_type": "stream",
     "text": [
      "Mean: 18.11111111111111\n"
     ]
    }
   ],
   "source": [
    "data = [5,8,12,15,18,22,25,28,30]\n",
    "\n",
    "#Mean\n",
    "mean_value = np.mean(data)\n",
    "print(f\"Mean: {mean_value}\")"
   ]
  },
  {
   "cell_type": "code",
   "execution_count": 3,
   "metadata": {},
   "outputs": [
    {
     "name": "stdout",
     "output_type": "stream",
     "text": [
      "Median is 18.0\n"
     ]
    }
   ],
   "source": [
    "#Median\n",
    "median_value = np.median(data)\n",
    "print(f\"Median is {median_value}\")"
   ]
  },
  {
   "cell_type": "code",
   "execution_count": 15,
   "metadata": {},
   "outputs": [
    {
     "name": "stdout",
     "output_type": "stream",
     "text": [
      "Mode is [5, 8, 12, 15, 18, 22, 25, 28, 30]\n"
     ]
    }
   ],
   "source": [
    "#Mode\n",
    "mode_value = pd.Series(data).mode()\n",
    "print(f\"Mode is {mode_value.to_list() if not mode_value.empty else 'No Mode in dataset'}\")"
   ]
  },
  {
   "cell_type": "code",
   "execution_count": 11,
   "metadata": {},
   "outputs": [
    {
     "name": "stdout",
     "output_type": "stream",
     "text": [
      "Range is 25\n"
     ]
    }
   ],
   "source": [
    "#Range\n",
    "range_value = np.max(data) - np.min(data)\n",
    "print(f\"Range is {range_value}\")"
   ]
  },
  {
   "cell_type": "code",
   "execution_count": 26,
   "metadata": {},
   "outputs": [
    {
     "name": "stdout",
     "output_type": "stream",
     "text": [
      "Variance is 927.0833333333334\n"
     ]
    }
   ],
   "source": [
    "#Avariance\n",
    "variance_value = np.var(data)\n",
    "print(f\"Variance is {variance_value}\")"
   ]
  },
  {
   "cell_type": "code",
   "execution_count": 28,
   "metadata": {},
   "outputs": [
    {
     "name": "stdout",
     "output_type": "stream",
     "text": [
      "Standard Deviation is 30.44804317740852\n"
     ]
    }
   ],
   "source": [
    "#Standard Deviation\n",
    "std_dev = np.std(data)\n",
    "print(f\"Standard Deviation is {std_dev}\")"
   ]
  },
  {
   "cell_type": "code",
   "execution_count": 18,
   "metadata": {},
   "outputs": [
    {
     "name": "stdout",
     "output_type": "stream",
     "text": [
      "Q1:12.0,Q3:25.0,IQR:13.0\n"
     ]
    }
   ],
   "source": [
    "#Interquartile Range (IQR)\n",
    "q1 = np.percentile(data, 25)\n",
    "q3 = np.percentile(data, 75)\n",
    "iqr = q3 - q1\n",
    "print(f\"Q1:{q1},Q3:{q3},IQR:{iqr}\")"
   ]
  },
  {
   "cell_type": "markdown",
   "metadata": {},
   "source": [
    "# Expenses"
   ]
  },
  {
   "cell_type": "code",
   "execution_count": 33,
   "metadata": {},
   "outputs": [
    {
     "data": {
      "text/plain": [
       "0    220\n",
       "1    185\n",
       "2    210\n",
       "3    250\n",
       "4    240\n",
       "dtype: int64"
      ]
     },
     "execution_count": 33,
     "metadata": {},
     "output_type": "execute_result"
    }
   ],
   "source": [
    "import pandas as pd\n",
    "Expenses = [220,185,210,250,240,195,180,230,200,260,215,285]\n",
    "data = pd.Series(Expenses)\n",
    "data.head()"
   ]
  },
  {
   "cell_type": "code",
   "execution_count": 34,
   "metadata": {},
   "outputs": [
    {
     "data": {
      "text/plain": [
       "np.float64(222.5)"
      ]
     },
     "execution_count": 34,
     "metadata": {},
     "output_type": "execute_result"
    }
   ],
   "source": [
    "#MEAN\n",
    "data.mean()"
   ]
  },
  {
   "cell_type": "code",
   "execution_count": 30,
   "metadata": {},
   "outputs": [
    {
     "data": {
      "text/plain": [
       "np.float64(217.5)"
      ]
     },
     "execution_count": 30,
     "metadata": {},
     "output_type": "execute_result"
    }
   ],
   "source": [
    "#MEDIAN\n",
    "data.median()"
   ]
  },
  {
   "cell_type": "code",
   "execution_count": 39,
   "metadata": {},
   "outputs": [
    {
     "name": "stdout",
     "output_type": "stream",
     "text": [
      "No Mode\n"
     ]
    }
   ],
   "source": [
    "#MODE\n",
    "if (len(Expenses) == len(data.mode())):\n",
    "    print(\"No Mode\")\n",
    "else:\n",
    "    print(data.mode()[0])"
   ]
  },
  {
   "cell_type": "code",
   "execution_count": 40,
   "metadata": {},
   "outputs": [
    {
     "data": {
      "text/plain": [
       "np.int64(105)"
      ]
     },
     "execution_count": 40,
     "metadata": {},
     "output_type": "execute_result"
    }
   ],
   "source": [
    "##RANGE\n",
    "data.max() - data.min()"
   ]
  },
  {
   "cell_type": "code",
   "execution_count": 41,
   "metadata": {},
   "outputs": [
    {
     "data": {
      "text/plain": [
       "np.float64(1011.3636363636364)"
      ]
     },
     "execution_count": 41,
     "metadata": {},
     "output_type": "execute_result"
    }
   ],
   "source": [
    "#VARIANCE\n",
    "data.var()"
   ]
  },
  {
   "cell_type": "code",
   "execution_count": 42,
   "metadata": {},
   "outputs": [
    {
     "data": {
      "text/plain": [
       "np.float64(31.801943908566916)"
      ]
     },
     "execution_count": 42,
     "metadata": {},
     "output_type": "execute_result"
    }
   ],
   "source": [
    "#STANDARD DEVIATION\n",
    "data.std()"
   ]
  },
  {
   "cell_type": "code",
   "execution_count": 43,
   "metadata": {},
   "outputs": [
    {
     "name": "stdout",
     "output_type": "stream",
     "text": [
      "Q1 : 198.75 \n",
      " Q3 : 242.5 \n",
      " IQR : 43.75\n"
     ]
    }
   ],
   "source": [
    "#IQR\n",
    "lower_quantile = data.quantile(0.25) \n",
    "upper_quantile = data.quantile(0.75)\n",
    "IQR = upper_quantile - lower_quantile\n",
    "print(f\"Q1 : {lower_quantile} \\n Q3 : {upper_quantile} \\n IQR : {IQR}\")"
   ]
  }
 ],
 "metadata": {
  "kernelspec": {
   "display_name": "Python 3",
   "language": "python",
   "name": "python3"
  },
  "language_info": {
   "codemirror_mode": {
    "name": "ipython",
    "version": 3
   },
   "file_extension": ".py",
   "mimetype": "text/x-python",
   "name": "python",
   "nbconvert_exporter": "python",
   "pygments_lexer": "ipython3",
   "version": "3.12.7"
  }
 },
 "nbformat": 4,
 "nbformat_minor": 2
}
