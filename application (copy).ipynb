{
 "cells": [
  {
   "cell_type": "code",
   "execution_count": null,
   "metadata": {},
   "outputs": [],
   "source": [
    "!pip install pandas"
   ]
  },
  {
   "cell_type": "code",
   "execution_count": null,
   "metadata": {},
   "outputs": [],
   "source": [
    "pip install numpy"
   ]
  },
  {
   "cell_type": "code",
   "execution_count": 2,
   "metadata": {},
   "outputs": [],
   "source": [
    "import pandas as pd"
   ]
  },
  {
   "cell_type": "code",
   "execution_count": 4,
   "metadata": {},
   "outputs": [],
   "source": [
    "import numpy as numpy"
   ]
  },
  {
   "cell_type": "code",
   "execution_count": null,
   "metadata": {},
   "outputs": [],
   "source": [
    "!pip install matplotlib"
   ]
  },
  {
   "cell_type": "code",
   "execution_count": 5,
   "metadata": {},
   "outputs": [],
   "source": [
    "import matplotlib.pyplot as plt"
   ]
  },
  {
   "cell_type": "code",
   "execution_count": 7,
   "metadata": {},
   "outputs": [],
   "source": [
    "df = pd.read_csv(\"/home/katawera/Downloads/Loan_Approval_Data.csv\")"
   ]
  },
  {
   "cell_type": "markdown",
   "metadata": {},
   "source": [
    "# What is the marginal probability of any continuous variable? "
   ]
  },
  {
   "cell_type": "code",
   "execution_count": null,
   "metadata": {},
   "outputs": [],
   "source": [
    "from scipy.stats import norm"
   ]
  },
  {
   "cell_type": "markdown",
   "metadata": {},
   "source": [
    "# assume income is normally distyributed"
   ]
  },
  {
   "cell_type": "code",
   "execution_count": null,
   "metadata": {},
   "outputs": [],
   "source": [
    "applicant_income_mean = df[\"ApplicantIncome\"].mean()\n",
    "applicant_income_std = df[\"ApplicantIncome\"].std()"
   ]
  },
  {
   "cell_type": "markdown",
   "metadata": {},
   "source": [
    "# calculate the cdf between 5000 and 12000"
   ]
  },
  {
   "cell_type": "code",
   "execution_count": null,
   "metadata": {},
   "outputs": [],
   "source": [
    "higher_prob = norm.cdf(12000, applicant_income_mean, applicant_income_std)\n",
    "lower_prob = norm.cdf(5000, applicant_income_mean, applicant_income_std)"
   ]
  },
  {
   "cell_type": "markdown",
   "metadata": {},
   "source": [
    "# marginal probability that ApplicantIncome is between 5000 and 12000"
   ]
  },
  {
   "cell_type": "code",
   "execution_count": null,
   "metadata": {},
   "outputs": [],
   "source": [
    "marginal_probability = higher_prob - lower_prob\n",
    "print(f'Marginal probability of ApplicantIncome between 5000 and 12000: {marginal_probability}')"
   ]
  },
  {
   "cell_type": "markdown",
   "metadata": {},
   "source": [
    "# What is the marginal probability of any categorical variable? "
   ]
  },
  {
   "cell_type": "code",
   "execution_count": 8,
   "metadata": {},
   "outputs": [
    {
     "name": "stdout",
     "output_type": "stream",
     "text": [
      "Gender\n",
      "Male      0.813644\n",
      "Female    0.186356\n",
      "Name: proportion, dtype: float64\n"
     ]
    }
   ],
   "source": [
    "gender_count=df['Gender'].value_counts(normalize=True)\n",
    "print(gender_count)"
   ]
  },
  {
   "cell_type": "markdown",
   "metadata": {},
   "source": [
    "# What is the probability that a \"female\" applicant has her Loan_Status reflecting \"Y?\""
   ]
  },
  {
   "cell_type": "code",
   "execution_count": 9,
   "metadata": {},
   "outputs": [
    {
     "name": "stdout",
     "output_type": "stream",
     "text": [
      "0.6696428571428571\n"
     ]
    }
   ],
   "source": [
    "prob_fem_loan_status_Y=len(df[(df['Gender'] == 'Female') & (df['Loan_Status'] == 'Y')]) / len(df[df['Gender'] == 'Female'])\n",
    "print(prob_fem_loan_status_Y)"
   ]
  },
  {
   "cell_type": "markdown",
   "metadata": {},
   "source": [
    "# Explain the central tendency of any two continuous variables."
   ]
  },
  {
   "cell_type": "code",
   "execution_count": 10,
   "metadata": {},
   "outputs": [
    {
     "name": "stdout",
     "output_type": "stream",
     "text": [
      "ApplicantIncome - Mean:5403.459283387622, Median:3812.5, Mode:2500\n",
      "LoanAmount - Mean:146.41216216216216, Median:128.0, Mode:120.0\n"
     ]
    }
   ],
   "source": [
    "applicant_income_mean = df['ApplicantIncome'].mean()\n",
    "applicant_income_median = df['ApplicantIncome'].median()\n",
    "applicant_income_mode = df['ApplicantIncome'].mode()[0]\n",
    "\n",
    "loan_amount_mean = df['LoanAmount'].mean()\n",
    "loan_amount_median = df['LoanAmount'].median()\n",
    "loan_amount_mode = df['LoanAmount'].mode()[0]\n",
    "\n",
    "print(f'ApplicantIncome - Mean:{applicant_income_mean}, Median:{applicant_income_median}, Mode:{applicant_income_mode}')\n",
    "print(f'LoanAmount - Mean:{loan_amount_mean}, Median:{loan_amount_median}, Mode:{loan_amount_mode}')"
   ]
  },
  {
   "cell_type": "markdown",
   "metadata": {},
   "source": [
    "# Explain the relationship between the variables \"Gender\" and \"Loan_Status."
   ]
  },
  {
   "cell_type": "code",
   "execution_count": null,
   "metadata": {},
   "outputs": [],
   "source": [
    "pip install scipy"
   ]
  },
  {
   "cell_type": "code",
   "execution_count": 16,
   "metadata": {},
   "outputs": [],
   "source": [
    "from scipy.stats import chi2_contingency"
   ]
  },
  {
   "cell_type": "code",
   "execution_count": 20,
   "metadata": {},
   "outputs": [
    {
     "name": "stdout",
     "output_type": "stream",
     "text": [
      "Chi-square Test: chi20.13962612116543877, p-value=0.7086529816451106\n"
     ]
    }
   ],
   "source": [
    "contingency_table = pd.crosstab(df['Gender'], df['Loan_Status'])\n",
    "chi2, p, dof, expected = chi2_contingency(contingency_table)\n",
    "print(f\"Chi-square Test: chi2{chi2}, p-value={p}\")"
   ]
  }
 ],
 "metadata": {
  "kernelspec": {
   "display_name": "Python 3",
   "language": "python",
   "name": "python3"
  },
  "language_info": {
   "codemirror_mode": {
    "name": "ipython",
    "version": 3
   },
   "file_extension": ".py",
   "mimetype": "text/x-python",
   "name": "python",
   "nbconvert_exporter": "python",
   "pygments_lexer": "ipython3",
   "version": "3.10.12"
  }
 },
 "nbformat": 4,
 "nbformat_minor": 2
}
