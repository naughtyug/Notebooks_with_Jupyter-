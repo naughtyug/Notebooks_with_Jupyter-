{
 "cells": [
  {
   "cell_type": "markdown",
   "metadata": {},
   "source": [
    "Independent events => P(AnB) = P(A) X P(B)<br />\n",
    "Mutually Exclusive events => P(AnB) = 0"
   ]
  },
  {
   "cell_type": "markdown",
   "metadata": {},
   "source": [
    "### Practical 3\n",
    "#### Marginal Probability\n",
    "- an event occuring without considering any other event."
   ]
  },
  {
   "cell_type": "markdown",
   "metadata": {},
   "source": [
    "- loading the dataset"
   ]
  },
  {
   "cell_type": "code",
   "execution_count": 3,
   "metadata": {},
   "outputs": [
    {
     "data": {
      "text/html": [
       "<div>\n",
       "<style scoped>\n",
       "    .dataframe tbody tr th:only-of-type {\n",
       "        vertical-align: middle;\n",
       "    }\n",
       "\n",
       "    .dataframe tbody tr th {\n",
       "        vertical-align: top;\n",
       "    }\n",
       "\n",
       "    .dataframe thead th {\n",
       "        text-align: right;\n",
       "    }\n",
       "</style>\n",
       "<table border=\"1\" class=\"dataframe\">\n",
       "  <thead>\n",
       "    <tr style=\"text-align: right;\">\n",
       "      <th></th>\n",
       "      <th>price</th>\n",
       "      <th>carat</th>\n",
       "      <th>cut</th>\n",
       "      <th>color</th>\n",
       "      <th>clarity</th>\n",
       "      <th>depth</th>\n",
       "      <th>table</th>\n",
       "      <th>x</th>\n",
       "      <th>y</th>\n",
       "      <th>z</th>\n",
       "    </tr>\n",
       "  </thead>\n",
       "  <tbody>\n",
       "    <tr>\n",
       "      <th>0</th>\n",
       "      <td>326</td>\n",
       "      <td>0.23</td>\n",
       "      <td>Ideal</td>\n",
       "      <td>E</td>\n",
       "      <td>SI2</td>\n",
       "      <td>61.5</td>\n",
       "      <td>55.0</td>\n",
       "      <td>3.95</td>\n",
       "      <td>3.98</td>\n",
       "      <td>2.43</td>\n",
       "    </tr>\n",
       "    <tr>\n",
       "      <th>1</th>\n",
       "      <td>326</td>\n",
       "      <td>0.21</td>\n",
       "      <td>Premium</td>\n",
       "      <td>E</td>\n",
       "      <td>SI1</td>\n",
       "      <td>59.8</td>\n",
       "      <td>61.0</td>\n",
       "      <td>3.89</td>\n",
       "      <td>3.84</td>\n",
       "      <td>2.31</td>\n",
       "    </tr>\n",
       "    <tr>\n",
       "      <th>2</th>\n",
       "      <td>327</td>\n",
       "      <td>0.23</td>\n",
       "      <td>Good</td>\n",
       "      <td>E</td>\n",
       "      <td>VS1</td>\n",
       "      <td>56.9</td>\n",
       "      <td>65.0</td>\n",
       "      <td>4.05</td>\n",
       "      <td>4.07</td>\n",
       "      <td>2.31</td>\n",
       "    </tr>\n",
       "    <tr>\n",
       "      <th>3</th>\n",
       "      <td>334</td>\n",
       "      <td>0.29</td>\n",
       "      <td>Premium</td>\n",
       "      <td>I</td>\n",
       "      <td>VS2</td>\n",
       "      <td>62.4</td>\n",
       "      <td>58.0</td>\n",
       "      <td>4.20</td>\n",
       "      <td>4.23</td>\n",
       "      <td>2.63</td>\n",
       "    </tr>\n",
       "    <tr>\n",
       "      <th>4</th>\n",
       "      <td>335</td>\n",
       "      <td>0.31</td>\n",
       "      <td>Good</td>\n",
       "      <td>J</td>\n",
       "      <td>SI2</td>\n",
       "      <td>63.3</td>\n",
       "      <td>58.0</td>\n",
       "      <td>4.34</td>\n",
       "      <td>4.35</td>\n",
       "      <td>2.75</td>\n",
       "    </tr>\n",
       "  </tbody>\n",
       "</table>\n",
       "</div>"
      ],
      "text/plain": [
       "   price  carat      cut color clarity  depth  table     x     y     z\n",
       "0    326   0.23    Ideal     E     SI2   61.5   55.0  3.95  3.98  2.43\n",
       "1    326   0.21  Premium     E     SI1   59.8   61.0  3.89  3.84  2.31\n",
       "2    327   0.23     Good     E     VS1   56.9   65.0  4.05  4.07  2.31\n",
       "3    334   0.29  Premium     I     VS2   62.4   58.0  4.20  4.23  2.63\n",
       "4    335   0.31     Good     J     SI2   63.3   58.0  4.34  4.35  2.75"
      ]
     },
     "execution_count": 3,
     "metadata": {},
     "output_type": "execute_result"
    }
   ],
   "source": [
    "import pandas as pd\n",
    "diamond_data = pd.read_excel(\"diamonds_new.xlsx\")\n",
    "diamond_data.head()"
   ]
  },
  {
   "cell_type": "markdown",
   "metadata": {},
   "source": [
    "#### Marginal Probability of Categorical Column"
   ]
  },
  {
   "cell_type": "code",
   "execution_count": 4,
   "metadata": {},
   "outputs": [
    {
     "name": "stdout",
     "output_type": "stream",
     "text": [
      "Marginal probabilities for cut are : \n",
      " cut\n",
      "Ideal        0.399592\n",
      "Premium      0.255731\n",
      "Very Good    0.223887\n",
      "Good         0.090950\n",
      "Fair         0.029841\n",
      "Name: count, dtype: float64\n"
     ]
    }
   ],
   "source": [
    "## Example \n",
    "### find the probability of a diamond having a Premium cut regardless of color or clarity\n",
    "\n",
    "## method one\n",
    "cut_probavilities = diamond_data['cut'].value_counts()/len(diamond_data)\n",
    "print(f\"Marginal probabilities for cut are : \\n {cut_probavilities}\")\n"
   ]
  },
  {
   "cell_type": "markdown",
   "metadata": {},
   "source": [
    "The probability is 0.2557"
   ]
  },
  {
   "cell_type": "code",
   "execution_count": 5,
   "metadata": {},
   "outputs": [
    {
     "name": "stdout",
     "output_type": "stream",
     "text": [
      "The probability of getting a cut premium is : 0.2557307121661721\n"
     ]
    }
   ],
   "source": [
    "## method two\n",
    "premium_probability = len(diamond_data[diamond_data['cut']==\"Premium\"])/len(diamond_data)\n",
    "print(f\"The probability of getting a cut premium is : {premium_probability}\")"
   ]
  },
  {
   "cell_type": "markdown",
   "metadata": {},
   "source": [
    "Example 2: find the probability of a diamond having a Color E"
   ]
  },
  {
   "cell_type": "code",
   "execution_count": 6,
   "metadata": {},
   "outputs": [
    {
     "name": "stdout",
     "output_type": "stream",
     "text": [
      "The probability of getting a color E diamond is : 0.18162091988130563\n"
     ]
    }
   ],
   "source": [
    "color_e_probability = len(diamond_data[diamond_data['color']=='E'])/len(diamond_data)\n",
    "print(f\"The probability of getting a color E diamond is : {color_e_probability}\")"
   ]
  },
  {
   "cell_type": "markdown",
   "metadata": {},
   "source": [
    "#### Marginal Probability of a Continous column\n",
    "- using carat"
   ]
  },
  {
   "cell_type": "code",
   "execution_count": 7,
   "metadata": {},
   "outputs": [
    {
     "data": {
      "text/plain": [
       "carat_bin\n",
       "0-0.5      0.327914\n",
       "0.5-1.0    0.319079\n",
       "1.0-1.5    0.238029\n",
       "1.5-2.0    0.075742\n",
       "2.0-2.5    0.037324\n",
       "2.5-3.0    0.001912\n",
       "Name: proportion, dtype: float64"
      ]
     },
     "execution_count": 7,
     "metadata": {},
     "output_type": "execute_result"
    }
   ],
   "source": [
    "## Discretize the cont feature into bins\n",
    "bins = [0, 0.5, 1.0, 1.5, 2.0, 2.5, 3.0]\n",
    "labels = ['0-0.5', '0.5-1.0', '1.0-1.5', '1.5-2.0', '2.0-2.5','2.5-3.0']\n",
    "\n",
    "## create a new column carat_bin\n",
    "diamond_data['carat_bin'] = pd.cut(diamond_data['carat'], bins = bins, labels=labels, right=False)\n",
    "\n",
    "## calculating the Marginal Probabilities\n",
    "carat_probabilities = diamond_data['carat_bin'].value_counts(normalize=True).sort_index()\n",
    "carat_probabilities"
   ]
  },
  {
   "cell_type": "markdown",
   "metadata": {},
   "source": [
    "### Expected Value(Mean):\n",
    "- representing the average value of a random variable if an experiment is repeated many times."
   ]
  },
  {
   "cell_type": "markdown",
   "metadata": {},
   "source": [
    "#### Application\n",
    "- Calculate the Expected value of diamond Price, Carat or Depth"
   ]
  },
  {
   "cell_type": "code",
   "execution_count": 12,
   "metadata": {},
   "outputs": [
    {
     "data": {
      "text/plain": [
       "{'price': 3933.4921735905045,\n",
       " 'carat': 0.7980181750741839,\n",
       " 'depth': 61.74956045994066}"
      ]
     },
     "execution_count": 12,
     "metadata": {},
     "output_type": "execute_result"
    }
   ],
   "source": [
    "expected_price = diamond_data[\"price\"].mean()\n",
    "expected_carat = diamond_data[\"carat\"].mean()\n",
    "expected_depth = diamond_data[\"depth\"].mean()\n",
    "columns = {'price': expected_price, 'carat': expected_carat, 'depth': expected_depth}\n",
    "columns"
   ]
  },
  {
   "cell_type": "markdown",
   "metadata": {},
   "source": [
    "### Variance and Standard Deviation"
   ]
  },
  {
   "cell_type": "code",
   "execution_count": 13,
   "metadata": {},
   "outputs": [],
   "source": [
    "variance_price = diamond_data[\"price\"].var()\n",
    "variance_carat = diamond_data[\"carat\"].var()\n",
    "variance_depth = diamond_data[\"depth\"].var()\n",
    "\n",
    "std_dev_price = diamond_data[\"price\"].std()\n",
    "std_dev_carat = diamond_data[\"carat\"].std()\n",
    "std_dev_depth = diamond_data[\"depth\"].std()"
   ]
  },
  {
   "cell_type": "code",
   "execution_count": 15,
   "metadata": {},
   "outputs": [
    {
     "name": "stdout",
     "output_type": "stream",
     "text": [
      "Variance : {'price': 15919810.143227756, 'carat': 0.22473377885696003, 'depth': 2.0518104857823882}\n"
     ]
    }
   ],
   "source": [
    "columns_var = {'price': variance_price, 'carat': variance_carat, 'depth': variance_depth}\n",
    "print(f\"Variance : {columns_var}\")"
   ]
  },
  {
   "cell_type": "code",
   "execution_count": 16,
   "metadata": {},
   "outputs": [
    {
     "name": "stdout",
     "output_type": "stream",
     "text": [
      "SD : {'price': 3989.963676930876, 'carat': 0.4740609442434169, 'depth': 1.4324142158546138}\n"
     ]
    }
   ],
   "source": [
    "columns_std = {'price': std_dev_price, 'carat': std_dev_carat, 'depth': std_dev_depth}\n",
    "print(f\"SD : {columns_std}\")"
   ]
  },
  {
   "cell_type": "markdown",
   "metadata": {},
   "source": [
    "### Covariance and Correlation\n",
    "- Covariance - indicating the  direction of the linear relationship bwtween to variables \n",
    "- ``Positive``: the variable increases as the other also increases\n",
    "- ``Negative``: the variable inceases as the other decreasing\n",
    "## Correlation\n",
    "\n",
    "- ``1:`` indicates a perfect positive linear relationship\n",
    "- ``-1:`` indicates a perfect negative linear relationship\n",
    "- ``0:`` no linear relationship"
   ]
  },
  {
   "cell_type": "markdown",
   "metadata": {},
   "source": [
    "- Covariance between carat and price\n",
    "- Covariance between depth and table"
   ]
  },
  {
   "cell_type": "code",
   "execution_count": 17,
   "metadata": {},
   "outputs": [
    {
     "name": "stdout",
     "output_type": "stream",
     "text": [
      "Covariance between carat and price :  1743.1746887677791\n",
      "Covariance between depth and table :  -0.9455882818278967\n"
     ]
    }
   ],
   "source": [
    "## Covariance between carat and price\n",
    "cov_carat_price = diamond_data[['carat', 'price']].cov().iloc[0,1]\n",
    "print(\"Covariance between carat and price : \", cov_carat_price)\n",
    "## Covariance between depth and table\n",
    "cov_depth_table = diamond_data[['depth', 'table']].cov().iloc[0,1]\n",
    "print(\"Covariance between depth and table : \", cov_depth_table)"
   ]
  },
  {
   "cell_type": "code",
   "execution_count": 18,
   "metadata": {},
   "outputs": [
    {
     "name": "stdout",
     "output_type": "stream",
     "text": [
      "Correlation between carat and price :  0.9215900813022095\n",
      "Correlation between depth and table :  -0.29550475927227204\n"
     ]
    }
   ],
   "source": [
    "## Covariance between carat and price\n",
    "cov_carat_price = diamond_data[['carat', 'price']].corr().iloc[0,1]\n",
    "print(\"Correlation between carat and price : \", cov_carat_price)\n",
    "## Covariance between depth and table\n",
    "cov_depth_table = diamond_data[['depth', 'table']].corr().iloc[0,1]\n",
    "print(\"Correlation between depth and table : \", cov_depth_table)"
   ]
  }
 ],
 "metadata": {
  "kernelspec": {
   "display_name": "Python 3",
   "language": "python",
   "name": "python3"
  },
  "language_info": {
   "codemirror_mode": {
    "name": "ipython",
    "version": 3
   },
   "file_extension": ".py",
   "mimetype": "text/x-python",
   "name": "python",
   "nbconvert_exporter": "python",
   "pygments_lexer": "ipython3",
   "version": "3.12.0"
  }
 },
 "nbformat": 4,
 "nbformat_minor": 2
}
