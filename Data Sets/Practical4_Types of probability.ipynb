{
 "cells": [
  {
   "cell_type": "markdown",
   "metadata": {},
   "source": [
    "## PRACTICAL ON CONCEPTS COVERED IN LECTURE 3: TYPES OF PROBABILITY ##"
   ]
  },
  {
   "cell_type": "markdown",
   "metadata": {},
   "source": [
    "Three major types of probability:\n",
    "Classical, empirical and subjective\n"
   ]
  },
  {
   "cell_type": "markdown",
   "metadata": {},
   "source": [
    "## 1. CLASSICAL PROBABILITY ##"
   ]
  },
  {
   "cell_type": "markdown",
   "metadata": {},
   "source": [
    "All outcomes are equally likely.\n",
    "\n",
    "Formula: Probability of an event = Number of favorable outcomes / Total number of possible outcomes.\n",
    "\n",
    "E.g. probability of having corrective lenses verses not having corrective lenses = 1/2"
   ]
  },
  {
   "cell_type": "markdown",
   "metadata": {},
   "source": []
  },
  {
   "cell_type": "markdown",
   "metadata": {},
   "source": [
    "## 2. EMPERICAL PROBABILITY ##"
   ]
  },
  {
   "cell_type": "markdown",
   "metadata": {},
   "source": [
    "Based on observed data or experiments.\n",
    "\n",
    "Formula: Probability of an event = Number of times the event occurred / Total number of trials.\n",
    "\n",
    "E.g. What is the probability of a diamond being of \"premium\" cut?"
   ]
  },
  {
   "cell_type": "code",
   "execution_count": 8,
   "metadata": {},
   "outputs": [],
   "source": [
    "#Import library pandas\n",
    "import pandas as pd\n",
    "import numpy"
   ]
  },
  {
   "cell_type": "code",
   "execution_count": 2,
   "metadata": {},
   "outputs": [],
   "source": [
    "#Import dataset\n",
    "data=pd.read_excel(\"diamonds_new.xlsx\")"
   ]
  },
  {
   "cell_type": "code",
   "execution_count": 3,
   "metadata": {},
   "outputs": [
    {
     "data": {
      "text/plain": [
       "13789"
      ]
     },
     "execution_count": 3,
     "metadata": {},
     "output_type": "execute_result"
    }
   ],
   "source": [
    "#Calculate the event\n",
    "event_premium = data[data['cut'] == \"Premium\"]['cut'].count()\n",
    "#View result\n",
    "event_premium"
   ]
  },
  {
   "cell_type": "code",
   "execution_count": 4,
   "metadata": {},
   "outputs": [
    {
     "data": {
      "text/plain": [
       "53920"
      ]
     },
     "execution_count": 4,
     "metadata": {},
     "output_type": "execute_result"
    }
   ],
   "source": [
    "#Calculate sample space i.e. how many total \"cut\" of diamonds\n",
    "sample_space_cut = data['cut'].count()\n",
    "#View the result\n",
    "sample_space_cut\n"
   ]
  },
  {
   "cell_type": "code",
   "execution_count": 10,
   "metadata": {},
   "outputs": [
    {
     "name": "stdout",
     "output_type": "stream",
     "text": [
      "Probability of the premium occuring is: 0.2557307121661721\n"
     ]
    }
   ],
   "source": [
    "# Calculate the probability of the event which is premium diamond\n",
    "\n",
    "probability = event_premium / sample_space_cut\n",
    "print(\"Probability of the premium occuring is:\", probability)"
   ]
  },
  {
   "cell_type": "markdown",
   "metadata": {},
   "source": []
  },
  {
   "cell_type": "markdown",
   "metadata": {},
   "source": [
    "## 3. SUBJECTIVE PROBABILITY ##"
   ]
  },
  {
   "cell_type": "markdown",
   "metadata": {},
   "source": [
    "Based on personal belief or prior knowledge/ experience\n",
    "\n",
    "E.g: Predicting the chance of winning the lottery in Uganda as 0.000005% based on the assumption of number of players"
   ]
  },
  {
   "cell_type": "markdown",
   "metadata": {},
   "source": []
  },
  {
   "cell_type": "markdown",
   "metadata": {},
   "source": [
    "## PRACTICAL CONCEPTS COVERED IN LECTURE 4: PROBABILITY OF RANDOM VARIABLES ##"
   ]
  },
  {
   "cell_type": "markdown",
   "metadata": {},
   "source": [
    "Variables that are either continuous e.g. \"price\" or discrete e.g. \"depth\""
   ]
  },
  {
   "cell_type": "markdown",
   "metadata": {},
   "source": [
    "## 1. Probability of a discrete random variable ##"
   ]
  },
  {
   "cell_type": "markdown",
   "metadata": {},
   "source": [
    "**A. Probability Mass Function (PMF)**"
   ]
  },
  {
   "cell_type": "markdown",
   "metadata": {},
   "source": [
    "**i. Binomial distribution**"
   ]
  },
  {
   "cell_type": "markdown",
   "metadata": {},
   "source": [
    "Formula\n",
    "X is the random variable representing the number of successes,\n",
    "\n",
    "k is a specific number of successes,\n",
    "\n",
    "n is the total number of trials,\n",
    "\n",
    "(n k) is the binomial coefficient (number of ways to choose ksuccesses from n trials),\n",
    "\n",
    "p is the probability of success, and\n",
    "1-p is the probability of failure."
   ]
  },
  {
   "cell_type": "markdown",
   "metadata": {},
   "source": [
    "Number of successes in a fixed sequence of discrete independent trials, each with a constant probability of success (p).\n",
    "\n",
    "E.g. If 80% of customers visiting a shop make a purchase. If a random sample of 10 customers is chosen for a day, what is the probability of a specific number of visitors purchasing a product? "
   ]
  },
  {
   "cell_type": "code",
   "execution_count": 29,
   "metadata": {},
   "outputs": [],
   "source": [
    "#Import necessary libraries\n",
    "import scipy.stats #has various  statistical tests like PMF\n",
    "import numpy as np #helps generate PMF\n",
    "import matplotlib.pyplot as plt #generates graphs\n",
    "import seaborn as sns #also generates graphs\n",
    "from scipy.stats import binom #contains the binomial function"
   ]
  },
  {
   "cell_type": "code",
   "execution_count": 13,
   "metadata": {},
   "outputs": [
    {
     "data": {
      "text/plain": [
       "array([ 0,  1,  2,  3,  4,  5,  6,  7,  8,  9, 10])"
      ]
     },
     "execution_count": 13,
     "metadata": {},
     "output_type": "execute_result"
    }
   ],
   "source": [
    "\n",
    "# Fit values in to the formula\n",
    "n = 10 # number of visitors selected randomly\n",
    "p = 0.80 # the probability that a visitor will end up buying something\n",
    "k = np.arange(0,11) # different possible number of visitors selected in a numpy array i.e. 0 or 5 etc\n",
    "k"
   ]
  },
  {
   "cell_type": "code",
   "execution_count": 14,
   "metadata": {},
   "outputs": [
    {
     "data": {
      "text/plain": [
       "array([1.02400000e-07, 4.09600000e-06, 7.37280000e-05, 7.86432000e-04,\n",
       "       5.50502400e-03, 2.64241152e-02, 8.80803840e-02, 2.01326592e-01,\n",
       "       3.01989888e-01, 2.68435456e-01, 1.07374182e-01])"
      ]
     },
     "execution_count": 14,
     "metadata": {},
     "output_type": "execute_result"
    }
   ],
   "source": [
    "# generate the probability distribution\n",
    "binomial = binom.pmf(k=k, n=n, p=p)\n",
    "binomial"
   ]
  },
  {
   "cell_type": "markdown",
   "metadata": {},
   "source": [
    "Generate a plot of the above probabilities"
   ]
  },
  {
   "cell_type": "code",
   "execution_count": 16,
   "metadata": {},
   "outputs": [
    {
     "name": "stderr",
     "output_type": "stream",
     "text": [
      "/var/folders/fz/73x0k3yj55b9_g8mt4krpwr80000gn/T/ipykernel_1004/3055420020.py:7: FutureWarning: \n",
      "\n",
      "Passing `palette` without assigning `hue` is deprecated and will be removed in v0.14.0. Assign the `x` variable to `hue` and set `legend=False` for the same effect.\n",
      "\n",
      "  sns.barplot(x=k, y=binomial, palette=colors)\n"
     ]
    },
    {
     "data": {
      "image/png": "[encoded data removed]",
      "text/plain": [
       "<Figure size 1000x600 with 1 Axes>"
      ]
     },
     "metadata": {},
     "output_type": "display_data"
    }
   ],
   "source": [
    "# style & colors\n",
    "sns.set(style=\"white\")\n",
    "colors = sns.color_palette(\"viridis\", n_colors=len(binomial))\n",
    "\n",
    "# Plotting the distribution with gradient color bars\n",
    "plt.figure(figsize=(10, 6))\n",
    "sns.barplot(x=k, y=binomial, palette=colors)\n",
    "\n",
    "sns.despine(left=True, bottom=True)\n",
    "\n",
    "# Setting the title and labels\n",
    "plt.title(\"Binomial Distribution: n=%i, p=%.2f\" % (n, p), fontsize=18, color='darkgreen')\n",
    "plt.xlabel(\"Number of Successes\", fontsize=14, color='darkgreen')\n",
    "plt.ylabel(\"Probability of Successes\", fontsize=14, color='darkgreen')\n",
    "\n",
    "plt.xticks(color='darkgreen')\n",
    "plt.yticks(color='darkgreen')\n",
    "\n",
    "plt.show()"
   ]
  },
  {
   "cell_type": "markdown",
   "metadata": {},
   "source": [
    "Theerefore the probability of purchasing is highest with 8 visitors"
   ]
  },
  {
   "cell_type": "markdown",
   "metadata": {},
   "source": [
    "E.g. 2: If 45% of the diamonds on the market are \"Ideal\", what is the probability that you'll get an ideal diamond if you sample 5 vendors?"
   ]
  },
  {
   "cell_type": "code",
   "execution_count": 31,
   "metadata": {},
   "outputs": [
    {
     "data": {
      "text/plain": [
       "array([0, 1, 2, 3, 4, 5])"
      ]
     },
     "execution_count": 31,
     "metadata": {},
     "output_type": "execute_result"
    }
   ],
   "source": [
    "# Fit values in to the formula\n",
    "n1 = 10,000 # number of vendors selected randomly\n",
    "p1 = 0.45 # the probability that a visitor will end up buying something\n",
    "k1 = np.arange(0,6) # different possible number of vendors selected in a numpy array i.e. 0 to 6 \n",
    "k1"
   ]
  },
  {
   "cell_type": "markdown",
   "metadata": {},
   "source": [
    "Events will occur within an interval of time independently and at a constant mean rate. "
   ]
  },
  {
   "cell_type": "markdown",
   "metadata": {},
   "source": [
    "## 2. Probability of a continuous random variable ##"
   ]
  },
  {
   "cell_type": "markdown",
   "metadata": {},
   "source": [
    "**B. Cumulative Distribution Function [CDF]**"
   ]
  },
  {
   "cell_type": "markdown",
   "metadata": {},
   "source": [
    "That a random variable is less than or equal to a certain value."
   ]
  },
  {
   "cell_type": "markdown",
   "metadata": {},
   "source": [
    "**i. Normal distribution**"
   ]
  },
  {
   "cell_type": "markdown",
   "metadata": {},
   "source": [
    "What is the distribution of price in the dataset?"
   ]
  },
  {
   "cell_type": "code",
   "execution_count": 32,
   "metadata": {},
   "outputs": [
    {
     "data": {
      "text/plain": [
       "count    53920.000000\n",
       "mean      3933.492174\n",
       "std       3989.963677\n",
       "min        326.000000\n",
       "25%        950.000000\n",
       "50%       2401.000000\n",
       "75%       5327.000000\n",
       "max      18823.000000\n",
       "Name: price, dtype: float64"
      ]
     },
     "execution_count": 32,
     "metadata": {},
     "output_type": "execute_result"
    }
   ],
   "source": [
    "#Using descriptive statistics (mean, median)\n",
    "data[\"price\"].describe()"
   ]
  },
  {
   "cell_type": "code",
   "execution_count": 34,
   "metadata": {},
   "outputs": [
    {
     "data": {
      "text/plain": [
       "Text(0, 0.5, 'Count')"
      ]
     },
     "execution_count": 34,
     "metadata": {},
     "output_type": "execute_result"
    },
    {
     "data": {
      "image/png": "[encoded data removed]",
      "text/plain": [
       "<Figure size 640x480 with 1 Axes>"
      ]
     },
     "metadata": {},
     "output_type": "display_data"
    }
   ],
   "source": [
    "#Plotting the distribution\n",
    "%matplotlib inline\n",
    "# Creating a histogram of the continuous\n",
    "data['price'].hist()\n",
    "# Setting the title and labels\n",
    "plt.title(\"Distribution of price\")\n",
    "plt.xlabel(\"Prices\")\n",
    "plt.ylabel(\"Count\")"
   ]
  }
 ],
 "metadata": {
  "kernelspec": {
   "display_name": "Python 3",
   "language": "python",
   "name": "python3"
  },
  "language_info": {
   "codemirror_mode": {
    "name": "ipython",
    "version": 3
   },
   "file_extension": ".py",
   "mimetype": "text/x-python",
   "name": "python",
   "nbconvert_exporter": "python",
   "pygments_lexer": "ipython3",
   "version": "3.12.0"
  }
 },
 "nbformat": 4,
 "nbformat_minor": 2
}
