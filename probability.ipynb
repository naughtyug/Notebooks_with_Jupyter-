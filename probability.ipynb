{
 "cells": [
  {
   "cell_type": "markdown",
   "metadata": {},
   "source": [
    "# PROBABILITY"
   ]
  },
  {
   "cell_type": "code",
   "execution_count": null,
   "metadata": {},
   "outputs": [
    {
     "name": "stdout",
     "output_type": "stream",
     "text": [
      "Probability is:0.5\n"
     ]
    }
   ],
   "source": [
    "# Given a coin\n",
    "# NB - Head & Tail\n",
    "sample_space = 2 \n",
    "event = 1\n",
    "probability = event/sample_space\n",
    "print(f\"Probability is:{probability}\")"
   ]
  },
  {
   "cell_type": "code",
   "execution_count": 4,
   "metadata": {},
   "outputs": [
    {
     "name": "stdout",
     "output_type": "stream",
     "text": [
      "probability to get red is:0.07142857142857142\n"
     ]
    }
   ],
   "source": [
    "sample_one = (\"blue, red, green, white, red\")\n",
    "event_reds = 2\n",
    "prob = 2/len(sample_one)\n",
    "print(f\"probability to get red is:{prob}\")"
   ]
  },
  {
   "cell_type": "markdown",
   "metadata": {},
   "source": [
    "# Marginal Probability"
   ]
  },
  {
   "cell_type": "code",
   "execution_count": 9,
   "metadata": {},
   "outputs": [
    {
     "name": "stdout",
     "output_type": "stream",
     "text": [
      "The probability of picking smooth marbles is 0.65\n"
     ]
    }
   ],
   "source": [
    "# Getting smooth marbles\n",
    "Total = 20\n",
    "smooth = 8+5\n",
    "probability = smooth/Total\n",
    "print(f\"The probability of picking smooth marbles is {probability}\")"
   ]
  },
  {
   "cell_type": "code",
   "execution_count": 10,
   "metadata": {},
   "outputs": [
    {
     "name": "stdout",
     "output_type": "stream",
     "text": [
      "The probability of picking rough marbles is 0.6\n"
     ]
    }
   ],
   "source": [
    "# Rough marbles\n",
    "Total = 20\n",
    "Rough = 8+4\n",
    "probability = Rough/Total\n",
    "print(f\"The probability of picking rough marbles is {probability}\")"
   ]
  },
  {
   "cell_type": "markdown",
   "metadata": {},
   "source": [
    "# Joint Probability"
   ]
  },
  {
   "cell_type": "code",
   "execution_count": null,
   "metadata": {},
   "outputs": [
    {
     "name": "stdout",
     "output_type": "stream",
     "text": [
      "The probability of picking both a smooth & red marble is 8.6\n"
     ]
    }
   ],
   "source": [
    "# Picking a marble that is both red & smooth\n",
    "Total = 20\n",
    "Red_marbles = 8\n",
    "smooth_marble = 12\n",
    "probability = 8+12/Total\n",
    "print(f\"The probability of picking both a smooth & red marble is {probability}\")"
   ]
  },
  {
   "cell_type": "code",
   "execution_count": 1,
   "metadata": {},
   "outputs": [
    {
     "name": "stdout",
     "output_type": "stream",
     "text": [
      "Joint Probability is 0.3333333333333333\n"
     ]
    }
   ],
   "source": [
    "sample_space = (1,2,3,4,5,6)\n",
    "event_one = (1,2,3)\n",
    "event_two = (2,4,3)\n",
    "\n",
    "joint_prob = len([x for x in event_one if x in event_two])/ len(sample_space)\n",
    "print(f\"Joint Probability is {joint_prob}\")"
   ]
  }
 ],
 "metadata": {
  "kernelspec": {
   "display_name": "Python 3",
   "language": "python",
   "name": "python3"
  },
  "language_info": {
   "codemirror_mode": {
    "name": "ipython",
    "version": 3
   },
   "file_extension": ".py",
   "mimetype": "text/x-python",
   "name": "python",
   "nbconvert_exporter": "python",
   "pygments_lexer": "ipython3",
   "version": "3.12.7"
  }
 },
 "nbformat": 4,
 "nbformat_minor": 2
}
